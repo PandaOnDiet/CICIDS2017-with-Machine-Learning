{
 "cells": [
  {
   "cell_type": "code",
   "execution_count": 1,
   "id": "1bdea578-cdc0-44b8-b43d-8423d24e0056",
   "metadata": {},
   "outputs": [],
   "source": [
    "import pandas as pd\n",
    "import numpy as np\n",
    "import glob\n",
    "import os\n",
    "import matplotlib.pyplot as plt\n",
    "import seaborn as sns\n",
    "from sklearn.model_selection import train_test_split\n",
    "from sklearn.preprocessing import StandardScaler, LabelEncoder\n",
    "from sklearn.ensemble import RandomForestClassifier\n",
    "from xgboost import XGBClassifier\n",
    "from sklearn.metrics import classification_report, confusion_matrix, ConfusionMatrixDisplay\n"
   ]
  },
  {
   "cell_type": "code",
   "execution_count": null,
   "id": "800a8d83",
   "metadata": {},
   "outputs": [],
   "source": [
    "# Load and merge dataset files\n",
    "data_dir = 'CICIDS2017'  \n",
    "\n",
    "all_files = glob.glob(os.path.join(data_dir, '*.csv'))\n",
    "df_list = []\n",
    "for file in all_files:\n",
    "    try:\n",
    "        df = pd.read_csv(file, encoding=\"ISO-8859-1\", encoding_errors=\"replace\", low_memory=False)  # Fix encoding issues\n",
    "        df_list.append(df)\n",
    "    except Exception as e:\n",
    "        print(f\"Error reading {file}: {e}\")  # Debugging info\n",
    "\n",
    "df = pd.concat(df_list, ignore_index=True)\n"
   ]
  },
  {
   "cell_type": "code",
   "execution_count": null,
   "id": "88d32f9b",
   "metadata": {},
   "outputs": [],
   "source": [
    "# Handle missing values\n",
    "df.replace([np.inf, -np.inf], np.nan, inplace=True)\n",
    "df.dropna(inplace=True)\n",
    "df.reset_index(drop=True, inplace=True)\n"
   ]
  },
  {
   "cell_type": "code",
   "execution_count": null,
   "id": "daf32466",
   "metadata": {},
   "outputs": [],
   "source": [
    "# Checker\n",
    "print(df.head())  # Show first few rows\n"
   ]
  },
  {
   "cell_type": "code",
   "execution_count": null,
   "id": "2058ce2e",
   "metadata": {},
   "outputs": [],
   "source": [
    "# Strip spaces from all column names\n",
    "df.columns = df.columns.str.strip()\n"
   ]
  },
  {
   "cell_type": "code",
   "execution_count": null,
   "id": "3d13ae9f",
   "metadata": {},
   "outputs": [],
   "source": [
    "# Encode categorical labels\n",
    "label_encoder = LabelEncoder()\n",
    "df['Label'] = label_encoder.fit_transform(df['Label'])\n",
    "label_mapping = dict(zip(label_encoder.classes_, label_encoder.transform(label_encoder.classes_)))"
   ]
  },
  {
   "cell_type": "code",
   "execution_count": null,
   "id": "bf27787b",
   "metadata": {},
   "outputs": [],
   "source": [
    "# Convert both keys and values to standard Python types\n",
    "label_mapping_fixed = {str(key): int(value) for key, value in label_mapping.items()}\n",
    "\n",
    "# Save as JSON\n",
    "import json\n",
    "with open(\"label_mapping.json\", \"w\") as f:\n",
    "    json.dump(label_mapping_fixed, f)\n",
    "\n",
    "print(\"Label encoding saved as label_mapping.json\")\n"
   ]
  },
  {
   "cell_type": "code",
   "execution_count": null,
   "id": "2a57e2ca",
   "metadata": {},
   "outputs": [],
   "source": [
    "# Feature selection\n",
    "drop_columns = ['Flow ID', 'Source IP', 'Destination IP', 'Timestamp']\n",
    "df.drop(drop_columns, axis=1, inplace=True, errors='ignore')"
   ]
  },
  {
   "cell_type": "code",
   "execution_count": null,
   "id": "32155f68",
   "metadata": {},
   "outputs": [],
   "source": [
    "# Normalize numerical features\n",
    "scaler = StandardScaler()\n",
    "numerical_cols = df.select_dtypes(include=['float64', 'int64']).columns\n",
    "df[numerical_cols] = scaler.fit_transform(df[numerical_cols])"
   ]
  },
  {
   "cell_type": "code",
   "execution_count": null,
   "id": "29962fbc",
   "metadata": {},
   "outputs": [],
   "source": [
    "# Split dataset\n",
    "X = df.drop('Label', axis=1)\n",
    "y = df['Label']\n",
    "X_train, X_test, y_train, y_test = train_test_split(X, y, test_size=0.3, random_state=42, stratify=y)"
   ]
  },
  {
   "cell_type": "code",
   "execution_count": null,
   "id": "8aeb81dc",
   "metadata": {},
   "outputs": [],
   "source": [
    "# Train Random Forest Model\n",
    "rf_model = RandomForestClassifier(n_estimators=100, random_state=42, n_jobs=-1)\n",
    "rf_model.fit(X_train, y_train)\n",
    "y_pred_rf = rf_model.predict(X_test)"
   ]
  },
  {
   "cell_type": "code",
   "execution_count": null,
   "id": "74937098",
   "metadata": {},
   "outputs": [],
   "source": [
    "# Train XGBoost Model\n",
    "xgb_model = XGBClassifier(use_label_encoder=False, eval_metric='mlogloss', n_jobs=-1)\n",
    "xgb_model.fit(X_train, y_train)\n",
    "y_pred_xgb = xgb_model.predict(X_test)"
   ]
  },
  {
   "cell_type": "code",
   "execution_count": null,
   "id": "f5d09b23",
   "metadata": {},
   "outputs": [],
   "source": [
    "# Model Evaluation\n",
    "def evaluate_model(y_true, y_pred, model_name):\n",
    "    print(f\"{model_name} Classification Report:\")\n",
    "    print(classification_report(y_true, y_pred))\n",
    "    \n",
    "    cm = confusion_matrix(y_true, y_pred)\n",
    "    disp = ConfusionMatrixDisplay(confusion_matrix=cm, display_labels=label_mapping.keys())\n",
    "    disp.plot(cmap=plt.cm.Blues, xticks_rotation=45)\n",
    "    plt.title(f\"Confusion Matrix - {model_name}\")\n",
    "    plt.show()\n",
    "\n",
    "evaluate_model(y_test, y_pred_rf, \"Random Forest\")\n",
    "evaluate_model(y_test, y_pred_xgb, \"XGBoost\")\n",
    "\n",
    "from sklearn.metrics import accuracy_score\n",
    "\n",
    "rf_accuracy = accuracy_score(y_test, y_pred_rf)\n",
    "xgb_accuracy = accuracy_score(y_test, y_pred_xgb)\n",
    "\n",
    "print(f\"Random Forest Accuracy: {rf_accuracy:.4f}\")\n",
    "print(f\"XGBoost Accuracy: {xgb_accuracy:.4f}\")\n",
    "\n"
   ]
  },
  {
   "cell_type": "code",
   "execution_count": null,
   "id": "75cfffe5",
   "metadata": {},
   "outputs": [],
   "source": [
    "# Feature Importance\n",
    "rf_importances = rf_model.feature_importances_\n",
    "rf_indices = np.argsort(rf_importances)[-10:]\n",
    "\n",
    "plt.figure(figsize=(10, 6))\n",
    "plt.barh(range(len(rf_indices)), rf_importances[rf_indices], color='skyblue')\n",
    "plt.yticks(range(len(rf_indices)), [X.columns[i] for i in rf_indices])\n",
    "plt.title('Top 10 Feature Importances (Random Forest)')\n",
    "plt.show()\n",
    "\n",
    "from sklearn.metrics import roc_auc_score\n",
    "from sklearn.preprocessing import label_binarize\n",
    "\n",
    "# Binarize the labels (convert multiclass to multiple binary columns)\n",
    "y_test_bin = label_binarize(y_test, classes=np.unique(y_test))\n",
    "y_pred_rf_bin = label_binarize(y_pred_rf, classes=np.unique(y_test))\n",
    "y_pred_xgb_bin = label_binarize(y_pred_xgb, classes=np.unique(y_test))\n",
    "\n",
    "# Compute ROC-AUC Score for each class and take the average\n",
    "rf_auc = roc_auc_score(y_test_bin, y_pred_rf_bin, average=\"macro\")\n",
    "xgb_auc = roc_auc_score(y_test_bin, y_pred_xgb_bin, average=\"macro\")\n",
    "\n",
    "print(f\"Random Forest ROC-AUC Score: {rf_auc:.4f}\")\n",
    "print(f\"XGBoost ROC-AUC Score: {xgb_auc:.4f}\")\n"
   ]
  }
 ],
 "metadata": {
  "kernelspec": {
   "display_name": "Python [conda env:base] *",
   "language": "python",
   "name": "conda-base-py"
  },
  "language_info": {
   "codemirror_mode": {
    "name": "ipython",
    "version": 3
   },
   "file_extension": ".py",
   "mimetype": "text/x-python",
   "name": "python",
   "nbconvert_exporter": "python",
   "pygments_lexer": "ipython3",
   "version": "3.12.7"
  }
 },
 "nbformat": 4,
 "nbformat_minor": 5
}
